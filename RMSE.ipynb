{
 "cells": [
  {
   "cell_type": "code",
   "execution_count": 2,
   "id": "f7777857",
   "metadata": {},
   "outputs": [],
   "source": [
    "import numpy as np"
   ]
  },
  {
   "cell_type": "code",
   "execution_count": 3,
   "id": "ac812add",
   "metadata": {},
   "outputs": [],
   "source": [
    "varCS = [51.4, 70.8, 169, 266, 760, 163, 1670, 3160, 947, 2840, 6380, 10600]\n",
    "varLBCS = [17.7, 18.9, 19.5, 14.8, 26.5, 68, 67.6, 130, 238, 258, 429, 1360]"
   ]
  },
  {
   "cell_type": "code",
   "execution_count": 4,
   "id": "54db21eb",
   "metadata": {},
   "outputs": [],
   "source": [
    "errorCS = [0.41, 0.48, 0.75, 0.52, 0.87, 0.4, 1.29, 1.77, 0.97, 1.68, 2.52, 3.25]\n",
    "errorLBCS = [0.13, 0.14, 0.14, 0.12, 0.16, 0.26, 0.26, 0.36, 0.49, 0.51, 0.65, 1.17]"
   ]
  },
  {
   "cell_type": "code",
   "execution_count": 9,
   "id": "b9a4917d",
   "metadata": {},
   "outputs": [
    {
     "name": "stdout",
     "output_type": "stream",
     "text": [
      "0.13304134695650072\n",
      "0.1374772708486752\n",
      "0.13964240043768944\n",
      "0.1216552506059644\n",
      "0.16278820596099708\n",
      "0.260768096208106\n",
      "0.26\n",
      "0.3605551275463989\n",
      "0.4878524367060187\n",
      "0.5079370039680118\n",
      "0.6549809157525126\n",
      "1.1661903789690602\n"
     ]
    }
   ],
   "source": [
    "for i in range(12):\n",
    "    print((np.sqrt(varLBCS[i]) / np.sqrt(1000)))\n",
    "    #print((np.sqrt(varCS[i]) / np.sqrt(1000)) / errorCS[i])\n",
    "    #print((np.sqrt(varLBCS[i]) / np.sqrt(1000)) / errorLBCS[i])\n",
    "    pass"
   ]
  },
  {
   "cell_type": "code",
   "execution_count": 35,
   "id": "621911fb",
   "metadata": {},
   "outputs": [
    {
     "data": {
      "text/plain": [
       "0.08365942863778117"
      ]
     },
     "execution_count": 35,
     "metadata": {},
     "output_type": "execute_result"
    }
   ],
   "source": [
    "errors = [0.12, 0.03, 0.01, 0.07, 0.05, 0.04, 0.07, 0.02, 0.017, 0.2]\n",
    "errsq = np.square(errors)\n",
    "np.sqrt(np.sum(errsq) / len(errors))"
   ]
  },
  {
   "cell_type": "code",
   "execution_count": 10,
   "id": "a53fa8ef",
   "metadata": {},
   "outputs": [],
   "source": [
    "nh3CS = [14396, 27249, 2120]\n",
    "nh3LBCS = [353, 632, 374]"
   ]
  },
  {
   "cell_type": "code",
   "execution_count": 13,
   "id": "5ef2512a",
   "metadata": {},
   "outputs": [
    {
     "data": {
      "text/plain": [
       "array([0.59413803, 0.79498428, 0.61155539])"
      ]
     },
     "execution_count": 13,
     "metadata": {},
     "output_type": "execute_result"
    }
   ],
   "source": [
    "np.sqrt(nh3LBCS)/np.sqrt(1000)"
   ]
  },
  {
   "cell_type": "code",
   "execution_count": null,
   "id": "e398fa21",
   "metadata": {},
   "outputs": [],
   "source": []
  }
 ],
 "metadata": {
  "kernelspec": {
   "display_name": "Python 3",
   "language": "python",
   "name": "python3"
  },
  "language_info": {
   "codemirror_mode": {
    "name": "ipython",
    "version": 3
   },
   "file_extension": ".py",
   "mimetype": "text/x-python",
   "name": "python",
   "nbconvert_exporter": "python",
   "pygments_lexer": "ipython3",
   "version": "3.9.4"
  }
 },
 "nbformat": 4,
 "nbformat_minor": 5
}
