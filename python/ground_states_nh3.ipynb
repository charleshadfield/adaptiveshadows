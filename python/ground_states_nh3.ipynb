{
 "cells": [
  {
   "cell_type": "code",
   "execution_count": 1,
   "id": "df60d034",
   "metadata": {},
   "outputs": [],
   "source": [
    "import numpy as np"
   ]
  },
  {
   "cell_type": "code",
   "execution_count": 2,
   "id": "420e433e",
   "metadata": {},
   "outputs": [],
   "source": [
    "from hamiltonian import hamiltonians"
   ]
  },
  {
   "cell_type": "code",
   "execution_count": 3,
   "id": "3d27bcd0",
   "metadata": {},
   "outputs": [],
   "source": [
    "for name in \"nh3_jw\", \"nh3_parity\", \"nh3_bk\":\n",
    "    ham = hamiltonians[name]\n",
    "    energy, state = ham.ground(sparse=True)\n",
    "    with open('nh3_ground/{}.npy'.format(name), 'wb') as f:\n",
    "        np.save(f, energy)\n",
    "        np.save(f, state)"
   ]
  },
  {
   "cell_type": "code",
   "execution_count": null,
   "id": "ed33bdf5",
   "metadata": {},
   "outputs": [],
   "source": [
    "with open('nh3_ground/nh3_jw.npy', 'rb') as f:\n",
    "    energy = np.load(f)\n",
    "    state = np.load(f)"
   ]
  },
  {
   "cell_type": "code",
   "execution_count": null,
   "id": "4d7c4016",
   "metadata": {},
   "outputs": [],
   "source": [
    "print(energy)\n"
   ]
  },
  {
   "cell_type": "code",
   "execution_count": null,
   "id": "025b24d1",
   "metadata": {},
   "outputs": [],
   "source": []
  }
 ],
 "metadata": {
  "kernelspec": {
   "display_name": "Python 3",
   "language": "python",
   "name": "python3"
  },
  "language_info": {
   "codemirror_mode": {
    "name": "ipython",
    "version": 3
   },
   "file_extension": ".py",
   "mimetype": "text/x-python",
   "name": "python",
   "nbconvert_exporter": "python",
   "pygments_lexer": "ipython3",
   "version": "3.9.4"
  }
 },
 "nbformat": 4,
 "nbformat_minor": 5
}
