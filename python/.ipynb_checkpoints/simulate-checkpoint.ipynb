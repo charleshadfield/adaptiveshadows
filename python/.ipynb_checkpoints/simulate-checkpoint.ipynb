{
 "cells": [
  {
   "cell_type": "code",
   "execution_count": 1,
   "id": "c7428ebc",
   "metadata": {},
   "outputs": [],
   "source": [
    "from hamiltonian import hamiltonians\n",
    "#hamiltonians"
   ]
  },
  {
   "cell_type": "markdown",
   "id": "republican-miracle",
   "metadata": {},
   "source": [
    "# Simulation"
   ]
  },
  {
   "cell_type": "code",
   "execution_count": 2,
   "id": "d0ee9701",
   "metadata": {},
   "outputs": [],
   "source": [
    "from circuits import generateBasis, runAndMeasure, buildPauliEstimates, updatePauliEstimates\n",
    "n_shots = 1000"
   ]
  },
  {
   "cell_type": "code",
   "execution_count": 3,
   "id": "831b7881",
   "metadata": {},
   "outputs": [],
   "source": [
    "name = 'h2_jw'\n",
    "ham = hamiltonians[name]"
   ]
  },
  {
   "cell_type": "code",
   "execution_count": 4,
   "id": "982d0f7e",
   "metadata": {},
   "outputs": [
    {
     "name": "stdout",
     "output_type": "stream",
     "text": [
      "CPU times: user 921 ms, sys: 62.3 ms, total: 984 ms\n",
      "Wall time: 130 ms\n"
     ]
    }
   ],
   "source": [
    "%%time\n",
    "H = ham.SummedOp()\n",
    "ground_energy, ground_state = ham.ground(sparse=True)"
   ]
  },
  {
   "cell_type": "code",
   "execution_count": 5,
   "id": "burning-plant",
   "metadata": {},
   "outputs": [],
   "source": [
    "pauliEstimates = buildPauliEstimates(H)"
   ]
  },
  {
   "cell_type": "code",
   "execution_count": 6,
   "id": "biological-saturday",
   "metadata": {},
   "outputs": [
    {
     "name": "stdout",
     "output_type": "stream",
     "text": [
      "CPU times: user 21.3 s, sys: 1.61 s, total: 22.9 s\n",
      "Wall time: 22.6 s\n"
     ]
    }
   ],
   "source": [
    "%%time\n",
    "for shot in range(n_shots):\n",
    "    basis = generateBasis(H)\n",
    "    evalues = runAndMeasure(ground_state, basis)\n",
    "    updatePauliEstimates(pauliEstimates, evalues, basis)"
   ]
  },
  {
   "cell_type": "code",
   "execution_count": 7,
   "id": "palestinian-connectivity",
   "metadata": {},
   "outputs": [],
   "source": [
    "energyEstimates = [0.0]\n",
    "for shot in range(n_shots):\n",
    "    energyRunning = 0.0\n",
    "    for x in H:\n",
    "        coeff, pauli = x.coeff, str(x.primitive)\n",
    "        energyRunning += coeff * pauliEstimates[pauli]['running'][shot+1]\n",
    "    energyEstimates.append(energyRunning)"
   ]
  },
  {
   "cell_type": "code",
   "execution_count": 8,
   "id": "ethical-syria",
   "metadata": {},
   "outputs": [
    {
     "name": "stdout",
     "output_type": "stream",
     "text": [
      "true       : -1.8608605555207562\n",
      "estimate   : -1.8460889586549734\n",
      "difference : 0.014771596865782888\n"
     ]
    }
   ],
   "source": [
    "print('true       :', ground_energy)\n",
    "print('estimate   :', energyEstimates[-1])\n",
    "print('difference :', energyEstimates[-1] - ground_energy)"
   ]
  },
  {
   "cell_type": "code",
   "execution_count": null,
   "id": "gentle-decision",
   "metadata": {},
   "outputs": [],
   "source": []
  },
  {
   "cell_type": "code",
   "execution_count": null,
   "id": "demographic-cowboy",
   "metadata": {},
   "outputs": [],
   "source": []
  },
  {
   "cell_type": "code",
   "execution_count": null,
   "id": "solar-annex",
   "metadata": {},
   "outputs": [],
   "source": []
  }
 ],
 "metadata": {
  "kernelspec": {
   "display_name": "Python 3",
   "language": "python",
   "name": "python3"
  },
  "language_info": {
   "codemirror_mode": {
    "name": "ipython",
    "version": 3
   },
   "file_extension": ".py",
   "mimetype": "text/x-python",
   "name": "python",
   "nbconvert_exporter": "python",
   "pygments_lexer": "ipython3",
   "version": "3.9.4"
  }
 },
 "nbformat": 4,
 "nbformat_minor": 5
}
