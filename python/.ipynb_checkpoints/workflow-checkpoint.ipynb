{
 "cells": [
  {
   "cell_type": "code",
   "execution_count": 1,
   "id": "champion-proportion",
   "metadata": {},
   "outputs": [],
   "source": [
    "from hamiltonian import Hamiltonian\n",
    "\n",
    "# 4 qubits\n",
    "h2_jw_4 = Hamiltonian('H2_STO3g_4qubits', 'jw')\n",
    "h2_parity_4 = Hamiltonian('H2_STO3g_4qubits', 'parity')\n",
    "h2_bk_4 = Hamiltonian('H2_STO3g_4qubits', 'bk')\n",
    "\n",
    "# 8 qubits\n",
    "h2_jw = Hamiltonian('H2_6-31G_8qubits', 'jw')\n",
    "h2_parity = Hamiltonian('H2_6-31G_8qubits', 'parity')\n",
    "h2_bk = Hamiltonian('H2_6-31G_8qubits', 'bk')\n",
    "\n",
    "# 12 qubits\n",
    "lih_jw = Hamiltonian('LiH_STO3g_12qubits', 'jw')\n",
    "lih_parity = Hamiltonian('LiH_STO3g_12qubits', 'parity')\n",
    "lih_bk = Hamiltonian('LiH_STO3g_12qubits', 'bk')"
   ]
  },
  {
   "cell_type": "code",
   "execution_count": 2,
   "id": "colonial-punch",
   "metadata": {},
   "outputs": [],
   "source": [
    "ham = h2_jw"
   ]
  },
  {
   "cell_type": "code",
   "execution_count": 3,
   "id": "continuous-audience",
   "metadata": {},
   "outputs": [],
   "source": [
    "H = ham.SummedOp()\n",
    "ground_energy, ground_state = ham.ground()"
   ]
  },
  {
   "cell_type": "code",
   "execution_count": 4,
   "id": "handled-colleague",
   "metadata": {},
   "outputs": [],
   "source": [
    "import numpy as np\n",
    "from qiskit.aqua.operators import PauliOp, SummedOp\n",
    "\n",
    "def generateBasis(H: SummedOp) -> str:\n",
    "    n = H.num_qubits\n",
    "    qubits_shift = list(np.random.choice(range(n), size=n, replace=False))\n",
    "    bases_shift = []\n",
    "    for j in range(n):\n",
    "        basisSingle = generateBasisSingle(j, qubits_shift, bases_shift, H)\n",
    "        bases_shift.append(basisSingle)\n",
    "    B = '' # measurement basis\n",
    "    for i in range(n):\n",
    "        j = qubits_shift.index(i)\n",
    "        B = B + bases_shift[j]\n",
    "    return B\n",
    "\n",
    "def generateBasisSingle(j: int, qubits_shift: list, bases_shift: list, H: SummedOp) -> str:\n",
    "    assert len(bases_shift) == j\n",
    "    beta = generateBeta(j, qubits_shift, bases_shift, H)\n",
    "    basis = np.random.choice(['X', 'Y', 'Z'], p=beta)\n",
    "    return basis\n",
    "\n",
    "def generateBeta(j, qubits_shift, bases_shift, H):\n",
    "    constants = [0.0, 0.0, 0.0]\n",
    "    p2index = {'X': 0, 'Y': 1, 'Z': 2}\n",
    "    for x in H:\n",
    "        coeff, pauli = x.coeff, str(x.primitive)\n",
    "        if isCompatible(pauli, j, qubits_shift, bases_shift):\n",
    "            p = pauli[qubits_shift[j]]\n",
    "            index = p2index[p]\n",
    "            constants[index] += coeff**2\n",
    "    beta_unnormalized = np.sqrt(constants)\n",
    "    beta = beta_unnormalized / np.sum(beta_unnormalized)\n",
    "    return beta\n",
    "\n",
    "def isCompatible(pauli, j, qubits_shift, bases_shift):\n",
    "    if pauli[qubits_shift[j]] == 'I':\n",
    "        return False\n",
    "    for k in range(j):\n",
    "        i = qubits_shift[k]\n",
    "        if not pauli[i] in ('I', bases_shift[k]):\n",
    "            return False\n",
    "    return True"
   ]
  },
  {
   "cell_type": "code",
   "execution_count": 5,
   "id": "legislative-screw",
   "metadata": {},
   "outputs": [],
   "source": [
    "basis = generateBasis(H)"
   ]
  },
  {
   "cell_type": "markdown",
   "id": "compound-dragon",
   "metadata": {},
   "source": [
    "# Measure Hamiltonian in basis"
   ]
  },
  {
   "cell_type": "code",
   "execution_count": 6,
   "id": "fossil-costume",
   "metadata": {},
   "outputs": [],
   "source": [
    "from qiskit import QuantumCircuit, execute\n",
    "from qiskit import Aer\n",
    "simulator = Aer.get_backend('qasm_simulator')"
   ]
  },
  {
   "cell_type": "code",
   "execution_count": 7,
   "id": "opponent-driving",
   "metadata": {},
   "outputs": [],
   "source": [
    "def runAndMeasure(state, basis):\n",
    "    n = len(basis)\n",
    "    circ = QuantumCircuit(n, n)\n",
    "    circ.initialize(state, range(n))\n",
    "\n",
    "    circ += measurementCircuit(basis)\n",
    "\n",
    "    # run experiment\n",
    "    result = execute(circ, simulator, shots=1).result()\n",
    "    counts = result.get_counts(circ)\n",
    "    # counts is a dictionary with only one entry (since shots=1)\n",
    "    bitString = counts.popitem()[0]  # physics ordering\n",
    "    \n",
    "    # return +/- evalues\n",
    "    evalues = [(-1)**int(bit) for bit in bitString]\n",
    "    return evalues\n",
    "\n",
    "def measurementCircuit(basis: str):\n",
    "    n = len(basis)\n",
    "    circ = QuantumCircuit(n, n)\n",
    "    # qiskit ordering\n",
    "    for qubit, pauli in enumerate(basis[::-1]):\n",
    "        circ = measurementPauli(circ, pauli, qubit)\n",
    "    return circ\n",
    "\n",
    "\n",
    "def measurementPauli(circ, pauli, qubit):\n",
    "    '''\n",
    "    modify circuit by appending measurement.\n",
    "    return modified circuit\n",
    "    '''\n",
    "    if pauli == 'X':\n",
    "        circ.h(qubit)\n",
    "    elif pauli == 'Y':\n",
    "        circ.sdg(qubit)\n",
    "        circ.h(qubit)\n",
    "    elif pauli == 'Z':\n",
    "        pass\n",
    "    circ.measure(qubit, qubit)\n",
    "    return circ"
   ]
  },
  {
   "cell_type": "code",
   "execution_count": 8,
   "id": "complex-subscriber",
   "metadata": {},
   "outputs": [
    {
     "data": {
      "text/plain": [
       "[-1, 1, 1, 1, -1, 1, 1, 1]"
      ]
     },
     "execution_count": 8,
     "metadata": {},
     "output_type": "execute_result"
    }
   ],
   "source": [
    "evalues = runAndMeasure(ground_state, basis)\n",
    "evalues"
   ]
  },
  {
   "cell_type": "markdown",
   "id": "temporal-faith",
   "metadata": {},
   "source": [
    "# Accumulate data"
   ]
  },
  {
   "cell_type": "code",
   "execution_count": 9,
   "id": "prescription-ontario",
   "metadata": {},
   "outputs": [],
   "source": [
    "def buildPauliEstimates(H):\n",
    "    pauliEstimates = {}\n",
    "    # key = Pauli appearing in H\n",
    "    # value = dict where\n",
    "        # number = number of times a basis has allowed Pauli to be estimated\n",
    "        # running = list of running best estimates of Pauli value\n",
    "    for x in H:\n",
    "        pauli = str(x.primitive)\n",
    "        pauliEstimates[pauli] = {'number': 0, 'running': [0.0]}\n",
    "    return pauliEstimates\n",
    "        \n",
    "def isEstimatible(pauli, basis):\n",
    "    for qubit in range(len(basis)):\n",
    "        if not pauli[qubit] in ('I', basis[qubit]):\n",
    "            return False\n",
    "    return True\n",
    "\n",
    "def estimate(pauli, evalues):\n",
    "    est = 1.0\n",
    "    for qubit, p in enumerate(pauli):\n",
    "        if p != 'I':\n",
    "            est *= evalues[qubit]\n",
    "    return est\n",
    "\n",
    "def updatePauliEstimates(pauliEstimates, evalues, basis):\n",
    "    for x in H:\n",
    "        pauli = str(x.primitive)\n",
    "        lastEstimate = pauliEstimates[pauli]['running'][-1]\n",
    "        if isEstimatible(pauli, basis):\n",
    "            est = estimate(pauli, evalues)\n",
    "            n = pauliEstimates[pauli]['number']\n",
    "            newEstimate = 1/(n+1) * (n * lastEstimate + est)\n",
    "            pauliEstimates[pauli]['number'] += 1\n",
    "            pauliEstimates[pauli]['running'].append(newEstimate)\n",
    "        else:\n",
    "            pauliEstimates[pauli]['running'].append(lastEstimate)\n",
    "    pass"
   ]
  },
  {
   "cell_type": "code",
   "execution_count": 10,
   "id": "constant-orientation",
   "metadata": {},
   "outputs": [],
   "source": [
    "#def energyEstimates(H, pauliEstimates):\n",
    "#    energies = [0.0]\n",
    "#    for x in H:\n",
    "#        coeff, pauli = x.coeff, str(x.primitive)\n",
    "#        energy += 0"
   ]
  },
  {
   "cell_type": "markdown",
   "id": "republican-miracle",
   "metadata": {},
   "source": [
    "# Simulation"
   ]
  },
  {
   "cell_type": "code",
   "execution_count": 11,
   "id": "vocal-framing",
   "metadata": {},
   "outputs": [],
   "source": [
    "ham = h2_jw\n",
    "H = ham.SummedOp()"
   ]
  },
  {
   "cell_type": "code",
   "execution_count": 12,
   "id": "medical-diabetes",
   "metadata": {},
   "outputs": [
    {
     "name": "stdout",
     "output_type": "stream",
     "text": [
      "CPU times: user 114 ms, sys: 12.7 ms, total: 126 ms\n",
      "Wall time: 82.1 ms\n"
     ]
    }
   ],
   "source": [
    "%%time\n",
    "ground_energy, ground_state = ham.ground(sparse=True)"
   ]
  },
  {
   "cell_type": "code",
   "execution_count": 13,
   "id": "burning-plant",
   "metadata": {},
   "outputs": [],
   "source": [
    "pauliEstimates = buildPauliEstimates(H)"
   ]
  },
  {
   "cell_type": "code",
   "execution_count": 14,
   "id": "preliminary-protein",
   "metadata": {},
   "outputs": [],
   "source": [
    "n_shots = 1000"
   ]
  },
  {
   "cell_type": "code",
   "execution_count": 15,
   "id": "biological-saturday",
   "metadata": {},
   "outputs": [
    {
     "name": "stdout",
     "output_type": "stream",
     "text": [
      "CPU times: user 11.1 s, sys: 643 ms, total: 11.8 s\n",
      "Wall time: 11.8 s\n"
     ]
    }
   ],
   "source": [
    "%%time\n",
    "for shot in range(n_shots):\n",
    "    basis = generateBasis(H)\n",
    "    evalues = runAndMeasure(ground_state, basis)\n",
    "    updatePauliEstimates(pauliEstimates, evalues, basis)"
   ]
  },
  {
   "cell_type": "code",
   "execution_count": 16,
   "id": "palestinian-connectivity",
   "metadata": {},
   "outputs": [],
   "source": [
    "energyEstimates = [0.0]\n",
    "for shot in range(n_shots):\n",
    "    energyRunning = 0.0\n",
    "    for x in H:\n",
    "        coeff, pauli = x.coeff, str(x.primitive)\n",
    "        energyRunning += coeff * pauliEstimates[pauli]['running'][shot+1]\n",
    "    energyEstimates.append(energyRunning)"
   ]
  },
  {
   "cell_type": "code",
   "execution_count": 17,
   "id": "ethical-syria",
   "metadata": {},
   "outputs": [
    {
     "name": "stdout",
     "output_type": "stream",
     "text": [
      "true       : -1.8608605555207562\n",
      "estimate   : -1.7651594238725539\n",
      "difference : 0.09570113164820238\n"
     ]
    }
   ],
   "source": [
    "print('true       :', ground_energy)\n",
    "print('estimate   :', energyEstimates[-1])\n",
    "print('difference :', energyEstimates[-1] - ground_energy)"
   ]
  },
  {
   "cell_type": "code",
   "execution_count": null,
   "id": "gentle-decision",
   "metadata": {},
   "outputs": [],
   "source": []
  },
  {
   "cell_type": "code",
   "execution_count": null,
   "id": "demographic-cowboy",
   "metadata": {},
   "outputs": [],
   "source": []
  },
  {
   "cell_type": "code",
   "execution_count": null,
   "id": "solar-annex",
   "metadata": {},
   "outputs": [],
   "source": []
  },
  {
   "cell_type": "markdown",
   "id": "legislative-trailer",
   "metadata": {},
   "source": [
    "# TEST"
   ]
  },
  {
   "cell_type": "code",
   "execution_count": null,
   "id": "special-honduras",
   "metadata": {},
   "outputs": [],
   "source": [
    "from qiskit.quantum_info import Pauli\n",
    "from qiskit.aqua.operators import PauliOp, SummedOp"
   ]
  },
  {
   "cell_type": "code",
   "execution_count": null,
   "id": "ultimate-stadium",
   "metadata": {},
   "outputs": [],
   "source": [
    "def testSummedOp(dictionary):\n",
    "    paulis = []\n",
    "    for P, coeff_P in dictionary.items():\n",
    "        paulis.append(coeff_P * PauliOp(Pauli.from_label(P)))\n",
    "    return SummedOp(paulis)\n",
    "\n",
    "def testGround(SummedOp):\n",
    "    mat = SummedOp.to_matrix()\n",
    "    evalues, evectors = np.linalg.eigh(mat)\n",
    "    index = np.argmin(evalues)\n",
    "    ground_energy = evalues[index]\n",
    "    ground_state = evectors[:,index]\n",
    "    return ground_energy, ground_state"
   ]
  },
  {
   "cell_type": "code",
   "execution_count": null,
   "id": "serial-ownership",
   "metadata": {},
   "outputs": [],
   "source": [
    "dictionary = {'ZII': -1, 'IZI': -1, 'IIX': 1}\n",
    "\n",
    "H = testSummedOp(dictionary)\n",
    "ground_energy, ground_state = testGround(H)"
   ]
  },
  {
   "cell_type": "code",
   "execution_count": null,
   "id": "congressional-aspect",
   "metadata": {},
   "outputs": [],
   "source": [
    "basis = generateBasis(H)\n",
    "#print(basis)"
   ]
  },
  {
   "cell_type": "code",
   "execution_count": null,
   "id": "delayed-cornwall",
   "metadata": {},
   "outputs": [],
   "source": [
    "n = 3\n",
    "circ = QuantumCircuit(n, n)\n",
    "circ.initialize(ground_state, range(n))\n",
    "#circ.draw()"
   ]
  },
  {
   "cell_type": "code",
   "execution_count": null,
   "id": "phantom-tampa",
   "metadata": {},
   "outputs": [],
   "source": [
    "#measurementCircuit(basis).draw()"
   ]
  },
  {
   "cell_type": "code",
   "execution_count": null,
   "id": "hundred-element",
   "metadata": {},
   "outputs": [],
   "source": [
    "circ += measurementCircuit(basis)"
   ]
  },
  {
   "cell_type": "code",
   "execution_count": null,
   "id": "genuine-effects",
   "metadata": {},
   "outputs": [],
   "source": [
    "result = execute(circ, simulator, shots=1).result()\n",
    "counts = result.get_counts(circ)\n",
    "# counts is a dictionary with only one entry (since shots=1)\n",
    "bitString = counts.popitem()[0]\n",
    "#bitString"
   ]
  },
  {
   "cell_type": "code",
   "execution_count": null,
   "id": "economic-witness",
   "metadata": {},
   "outputs": [],
   "source": []
  }
 ],
 "metadata": {
  "kernelspec": {
   "display_name": "Python 3",
   "language": "python",
   "name": "python3"
  },
  "language_info": {
   "codemirror_mode": {
    "name": "ipython",
    "version": 3
   },
   "file_extension": ".py",
   "mimetype": "text/x-python",
   "name": "python",
   "nbconvert_exporter": "python",
   "pygments_lexer": "ipython3",
   "version": "3.9.2"
  }
 },
 "nbformat": 4,
 "nbformat_minor": 5
}
