{
 "cells": [
  {
   "cell_type": "code",
   "execution_count": 1,
   "metadata": {},
   "outputs": [],
   "source": [
    "from hamiltonian import HamiltonianSmall, Hamiltonian"
   ]
  },
  {
   "cell_type": "code",
   "execution_count": 2,
   "metadata": {},
   "outputs": [],
   "source": [
    "lih_small = HamiltonianSmall('LiH', 1.5) # this encoding uses reduction techniques\n",
    "beh2_small = HamiltonianSmall('BeH2', 1.3) # this encoding uses reduction techniques\n",
    "\n",
    "# 4 qubits\n",
    "h2_jw_4 = Hamiltonian('H2_STO3g_4qubits', 'jw')\n",
    "h2_parity_4 = Hamiltonian('H2_STO3g_4qubits', 'parity')\n",
    "h2_bk_4 = Hamiltonian('H2_STO3g_4qubits', 'bk')\n",
    "\n",
    "# 8 qubits\n",
    "h2_jw = Hamiltonian('H2_6-31G_8qubits', 'jw')\n",
    "h2_parity = Hamiltonian('H2_6-31G_8qubits', 'parity')\n",
    "h2_bk = Hamiltonian('H2_6-31G_8qubits', 'bk')\n",
    "\n",
    "# 12 qubits\n",
    "lih_jw = Hamiltonian('LiH_STO3g_12qubits', 'jw')\n",
    "lih_parity = Hamiltonian('LiH_STO3g_12qubits', 'parity')\n",
    "lih_bk = Hamiltonian('LiH_STO3g_12qubits', 'bk')\n",
    "\n",
    "# 14 qubits\n",
    "beh2_jw = Hamiltonian('BeH2_STO3g_14qubits', 'jw')\n",
    "beh2_parity = Hamiltonian('BeH2_STO3g_14qubits', 'parity')\n",
    "beh2_bk = Hamiltonian('BeH2_STO3g_14qubits', 'bk')\n",
    "\n",
    "h2o_jw = Hamiltonian('H2O_STO3g_14qubits', 'jw')\n",
    "h2o_parity = Hamiltonian('H2O_STO3g_14qubits', 'parity')\n",
    "h2o_bk = Hamiltonian('H2O_STO3g_14qubits', 'bk')\n",
    "\n",
    "# 16 qubits\n",
    "nh3_jw = Hamiltonian('NH3_STO3g_16qubits', 'jw')\n",
    "nh3_parity = Hamiltonian('NH3_STO3g_16qubits', 'parity')\n",
    "nh3_bk = Hamiltonian('NH3_STO3g_16qubits', 'bk')\n",
    "\n",
    "# 20 qubits\n",
    "c2_jw = Hamiltonian('C2_STO3g_20qubits', 'jw')\n",
    "c2_parity = Hamiltonian('C2_STO3g_20qubits', 'parity')\n",
    "c2_bk = Hamiltonian('C2_STO3g_20qubits', 'bk')\n",
    "\n",
    "hcl_jw = Hamiltonian('HCl_STO3g_20qubits', 'jw')\n",
    "hcl_parity = Hamiltonian('HCl_STO3g_20qubits', 'parity')\n",
    "hcl_bk = Hamiltonian('HCl_STO3g_20qubits', 'bk')"
   ]
  },
  {
   "cell_type": "code",
   "execution_count": 3,
   "metadata": {},
   "outputs": [],
   "source": [
    "hamiltonians = {\"lih_small\": lih_small,\n",
    "                \"beh2_small\": beh2_small,\n",
    "                \"h2_jw_4\": h2_jw_4,\n",
    "                \"h2_parity_4\": h2_parity_4,\n",
    "                \"h2_bk_4\": h2_bk_4,\n",
    "                \"h2_jw\": h2_jw,\n",
    "                \"h2_parity\": h2_parity,\n",
    "                \"h2_bk\": h2_bk}"
   ]
  },
  {
   "cell_type": "code",
   "execution_count": 4,
   "metadata": {},
   "outputs": [
    {
     "name": "stdout",
     "output_type": "stream",
     "text": [
      "CPU times: user 26.9 ms, sys: 6.55 ms, total: 33.4 ms\n",
      "Wall time: 29.8 ms\n",
      "CPU times: user 463 ms, sys: 17.6 ms, total: 481 ms\n",
      "Wall time: 437 ms\n",
      "CPU times: user 3.41 s, sys: 184 ms, total: 3.59 s\n",
      "Wall time: 2.77 s\n",
      "CPU times: user 14.8 s, sys: 1.71 s, total: 16.6 s\n",
      "Wall time: 10.4 s\n"
     ]
    }
   ],
   "source": [
    "%time h2_jw_4.pauli_rep.ground()\n",
    "%time h2_jw.pauli_rep.ground()\n",
    "%time lih_jw.pauli_rep.ground()\n",
    "%time energy, state = h2o_jw.pauli_rep.ground()\n",
    "# %time energy, state = nh3_jw.pauli_rep.ground() # takes about 4 minutes"
   ]
  },
  {
   "cell_type": "code",
   "execution_count": 5,
   "metadata": {},
   "outputs": [
    {
     "name": "stdout",
     "output_type": "stream",
     "text": [
      "CPU times: user 238 ms, sys: 125 ms, total: 363 ms\n",
      "Wall time: 1.26 s\n",
      "CPU times: user 103 ms, sys: 71.1 ms, total: 174 ms\n",
      "Wall time: 1.04 s\n",
      "CPU times: user 813 ms, sys: 195 ms, total: 1.01 s\n",
      "Wall time: 1.96 s\n",
      "CPU times: user 11.2 s, sys: 1.77 s, total: 13 s\n",
      "Wall time: 6.65 s\n"
     ]
    }
   ],
   "source": [
    "%time h2_jw_4.pauli_rep.ground(multithread=True)\n",
    "%time h2_jw.pauli_rep.ground(multithread=True)\n",
    "%time lih_jw.pauli_rep.ground(multithread=True)\n",
    "%time energy, state = h2o_jw.pauli_rep.ground(multithread=True)\n",
    "# %time energy, state = nh3_jw.pauli_rep.ground(multithread=True) # takes about 1 minute"
   ]
  },
  {
   "cell_type": "markdown",
   "metadata": {},
   "source": [
    "# Variance formula\n",
    "\n",
    "\\begin{equation}\\label{eq:var_pauli_biased}\n",
    "\t\\Var(\\nu) = \\left(\\sum_{Q,R} f(Q,R,\\beta) \\alpha_Q \\alpha_R \\tr(\\rho Q R)\\right) - \\left(\\tr(\\rho O) \\right)^2.\n",
    "\\end{equation}"
   ]
  },
  {
   "cell_type": "code",
   "execution_count": 6,
   "metadata": {},
   "outputs": [
    {
     "name": "stdout",
     "output_type": "stream",
     "text": [
      "CPU times: user 2.92 ms, sys: 56 µs, total: 2.98 ms\n",
      "Wall time: 3.07 ms\n"
     ]
    },
    {
     "data": {
      "text/plain": [
       "1.9710775636478903"
      ]
     },
     "execution_count": 6,
     "metadata": {},
     "output_type": "execute_result"
    }
   ],
   "source": [
    "ham = h2_jw_4\n",
    "energy, state = ham.pauli_rep.ground()\n",
    "β = ham.pauli_rep.local_dists_uniform()\n",
    "%time ham.pauli_rep.variance_local(energy, state, β)"
   ]
  },
  {
   "cell_type": "code",
   "execution_count": 7,
   "metadata": {},
   "outputs": [
    {
     "name": "stdout",
     "output_type": "stream",
     "text": [
      "ell_1:  2.493466775932121\n"
     ]
    }
   ],
   "source": [
    "print(\"ell_1: \", ham.pauli_rep.variance_ell_1(energy))"
   ]
  },
  {
   "cell_type": "code",
   "execution_count": 8,
   "metadata": {},
   "outputs": [
    {
     "name": "stdout",
     "output_type": "stream",
     "text": [
      "1_norm:  60.38753187541104\n",
      "2_norm:  22.36573743732807\n",
      "max_norm:  13.643445555482327\n"
     ]
    }
   ],
   "source": [
    "# this code is from an old idea, which ultimately did not work well.\n",
    "\n",
    "β = ham.pauli_rep.local_dists_pnorm(1)\n",
    "print(\"1_norm: \", ham.pauli_rep.variance_local(energy, state, β))\n",
    "\n",
    "β = ham.pauli_rep.local_dists_pnorm(2)\n",
    "print(\"2_norm: \", ham.pauli_rep.variance_local(energy, state, β))\n",
    "\n",
    "β = ham.pauli_rep.local_dists_pnorm('infinity')\n",
    "print(\"max_norm: \", ham.pauli_rep.variance_local(energy, state, β))"
   ]
  },
  {
   "cell_type": "markdown",
   "metadata": {},
   "source": [
    "# Variance optimisation (method=diagonal)\n",
    "\n",
    "This is not the correct optimisation. However it\n",
    "- gives good results;\n",
    "- is quicker than the full optimisation problem;\n",
    "- is convex (so local minimums are global);\n",
    "- does not need access to the Hartree-Fock bitstring for the encoding.\n",
    "\n",
    "Diagonal minimisation asks us to find $\\{\\beta_{i,P}\\}$ in order to minimise:\n",
    "$$\\label{eq:cost_diag}\n",
    "    \\mathrm{cost}_\\mathrm{diag}(\\beta)\n",
    "    =\n",
    "    \\sum_Q \\alpha_Q^2 \\prod_{i\\in\\supp(Q)} (\\beta_i(Q_i))^{-1}\n",
    "    \\textrm{subject to}\n",
    "    \\qquad\n",
    "    \\beta_{i,X}+\\beta_{i,Y}+\\beta_{i,Z}=1 \\,\\forall i,\n",
    "    \\qquad\n",
    "    \\beta_{i,P}\\ge 0\n",
    "$$\n",
    "\n",
    "And we have an implementation using Lagrange multipliers"
   ]
  },
  {
   "cell_type": "code",
   "execution_count": 9,
   "metadata": {},
   "outputs": [
    {
     "name": "stdout",
     "output_type": "stream",
     "text": [
      "1.8555808971073735\n"
     ]
    }
   ],
   "source": [
    "β = ham.pauli_rep.local_dists_optimal('diagonal', 'scipy')\n",
    "print(ham.pauli_rep.variance_local(energy, state, β))"
   ]
  },
  {
   "cell_type": "code",
   "execution_count": 10,
   "metadata": {},
   "outputs": [
    {
     "name": "stdout",
     "output_type": "stream",
     "text": [
      "1.855583049884943\n"
     ]
    }
   ],
   "source": [
    "β = ham.pauli_rep.local_dists_optimal('diagonal', 'lagrange')\n",
    "print(ham.pauli_rep.variance_local(energy, state, β))"
   ]
  },
  {
   "cell_type": "code",
   "execution_count": 11,
   "metadata": {},
   "outputs": [
    {
     "name": "stdout",
     "output_type": "stream",
     "text": [
      "CPU times: user 30.5 s, sys: 3.66 s, total: 34.2 s\n",
      "Wall time: 11.7 s\n",
      "CPU times: user 1.31 s, sys: 45.7 ms, total: 1.35 s\n",
      "Wall time: 1.18 s\n",
      "CPU times: user 23.1 s, sys: 679 ms, total: 23.8 s\n",
      "Wall time: 23.8 s\n",
      "CPU times: user 23.2 s, sys: 652 ms, total: 23.9 s\n",
      "Wall time: 24.3 s\n",
      "discrepancy between variances:  4.926058379695064e-05\n"
     ]
    }
   ],
   "source": [
    "# time comparison lih_jw has 12 qubits\n",
    "\n",
    "ham = lih_jw\n",
    "%time β_scipy = ham.pauli_rep.local_dists_optimal('diagonal', 'scipy')\n",
    "%time β_lagrange = ham.pauli_rep.local_dists_optimal('diagonal', 'lagrange')\n",
    "\n",
    "energy, state = ham.pauli_rep.ground(multithread=True)\n",
    "%time var_scipy = ham.pauli_rep.variance_local(energy, state, β_scipy)\n",
    "%time var_lagrange = ham.pauli_rep.variance_local(energy, state, β_lagrange)\n",
    "\n",
    "discrepancy = abs(var_scipy - var_lagrange)\n",
    "print(\"discrepancy between variances: \", discrepancy)"
   ]
  },
  {
   "cell_type": "markdown",
   "metadata": {},
   "source": [
    "# Variance optimisation (method=mixed)\n",
    "\n",
    "This is the full optimisation problem. It requires access to the Hartree-Fock bitstring $m$ or `bitstring_HF` so that the HF state reads\n",
    "$\\frac1{2^n}\\otimes_{i=1}^n (I+m_i Z)$\n",
    "\n",
    "In the JW encoding these are:\n",
    "- H2 = `1010` (on four qubits)\n",
    "- H2 = `10001000`\n",
    "- LiH = `100000100000`\n",
    "- H2O = `11111001111100`\n",
    "- BeH2 = `11100001110000`\n",
    "- NH3 = `1111100011111000`\n",
    "You can retrieve them by calling `Hamiltonian.read_bitstring_HF()`\n",
    "\n",
    "Consider the set of influential pairs:\n",
    "\\begin{align}\n",
    "    \\mathcal{I}_{Z^{\\otimes n}}\n",
    "    =\n",
    "    \\left\\{\\left.\n",
    "        (Q,R)\n",
    "        \\,\\right|\\,\n",
    "        \\textrm{$Q,R\\neq I^{\\otimes n}$ and for all $i$, either $Q_i=R_i$, or $\\{Q_i,R_i\\}=\\{I,Z\\}$}\n",
    "    \\right\\}\n",
    "\\end{align}\n",
    "\n",
    "Then the cost function to optimise will be:\n",
    "\\begin{align}\\label{eq:cost}\n",
    "    \\mathrm{cost}(\\beta)\n",
    "    =\n",
    "    \\sum_{(Q,R)\\in\\mathcal{I}_{Z^{\\otimes n}}}\n",
    "        \\alpha_Q\n",
    "        \\alpha_R\n",
    "        \\prod_{i | Q_i=R_i\\neq I}\n",
    "            (\\beta_i(Q_i))^{-1}\n",
    "        \\prod_{i | Q_i\\neq R_i}\n",
    "            m_i\n",
    "\\end{align}\n",
    "\n",
    "Warning, the small Hamiltonians don't follow the pattern because they use other reduction techniques"
   ]
  },
  {
   "cell_type": "code",
   "execution_count": 12,
   "metadata": {},
   "outputs": [],
   "source": [
    "# time comparison lih_jw has 12 qubits\n",
    "\n",
    "#ham = lih_jw\n",
    "#bitstring_HF = ham.read_bitstring_HF()\n",
    "\n",
    "#%time β_scipy = ham.pauli_rep.local_dists_optimal('mixed', 'scipy', bitstring_HF=bitstring_HF)\n",
    "# about 7 mins\n",
    "#%time β_lagrange = ham.pauli_rep.local_dists_optimal('mixed', 'lagrange', bitstring_HF=bitstring_HF)\n",
    "# about 7 seconds\n",
    "\n",
    "#energy, state = ham.pauli_rep.ground(multithread=True)\n",
    "#%time var_scipy = ham.pauli_rep.variance_local(energy, state, β_scipy)\n",
    "# about 95 seconds\n",
    "#%time var_lagrange = ham.pauli_rep.variance_local(energy, state, β_lagrange)\n",
    "# about 100 seconds\n",
    "\n",
    "#discrepancy = abs(var_scipy - var_lagrange)\n",
    "#print(\"discrepancy between variances: \", discrepancy)"
   ]
  },
  {
   "cell_type": "markdown",
   "metadata": {},
   "source": [
    "# Variance after LDF grouping\n",
    "\n",
    "We should use 1-norm sampling for $\\kappa$\n",
    "\n",
    "\\begin{align}\n",
    "    \\Var(\\nu)\n",
    "    = \n",
    "    \\left(\n",
    "    \\sum_{k=1}^K\n",
    "        \\frac1{\\kappa (C^{(k)})} \n",
    "        \\sum_{Q,R\\in C^{(k)}}\n",
    "            \\alpha_Q \\alpha_R\n",
    "            \\prod_{i\\in\\supp(QR)} \\tr(\\rho QR)\n",
    "    \\right)\n",
    "    - \\tr( \\rho H_0 )^2\n",
    "\\end{align}"
   ]
  },
  {
   "cell_type": "code",
   "execution_count": 13,
   "metadata": {},
   "outputs": [],
   "source": [
    "from var import variance_ldf, kappa_1norm #kappa_uniform"
   ]
  },
  {
   "cell_type": "code",
   "execution_count": 14,
   "metadata": {},
   "outputs": [
    {
     "data": {
      "text/plain": [
       "22.259477922991138"
      ]
     },
     "execution_count": 14,
     "metadata": {},
     "output_type": "execute_result"
    }
   ],
   "source": [
    "ham = h2_jw\n",
    "energy, state = ham.pauli_rep.ground(multithread=True)\n",
    "\n",
    "ldf = ham.ldf()\n",
    "kappa = kappa_1norm(ldf)\n",
    "energy_tf = ham.pauli_rep.energy_tf(energy)\n",
    "variance_ldf(ldf, state, kappa, energy_tf)"
   ]
  },
  {
   "cell_type": "markdown",
   "metadata": {},
   "source": [
    "# Benchmarking"
   ]
  },
  {
   "cell_type": "code",
   "execution_count": 15,
   "metadata": {},
   "outputs": [],
   "source": [
    "def variances_dict(ham, β_diag=None, β_mix=None):\n",
    "    pr = ham.pauli_rep\n",
    "    dic = {}\n",
    "    \n",
    "    energy, state = pr.ground(multithread=False)\n",
    "    print(\"energy :\", energy)\n",
    "\n",
    "    # ell_1\n",
    "    var = pr.variance_ell_1(energy)\n",
    "    print(\"ell 1: \", var)\n",
    "    dic['ell_1'] = var\n",
    "    \n",
    "    # LDF with 1-norm sampling\n",
    "    ldf = ham.ldf()\n",
    "    kappa = kappa_1norm(ldf)\n",
    "    energy_tf = pr.energy_tf(energy)\n",
    "    var = variance_ldf(ldf, state, kappa, energy_tf)\n",
    "    print(\"ldf 1norm: \", var)\n",
    "    dic['ldf_1norm'] = var\n",
    "    \n",
    "    # uniform\n",
    "    β_uniform = pr.local_dists_uniform()\n",
    "    var = pr.variance_local(energy, state, β_uniform, multithread=False)\n",
    "    print(\"uniform: \", var)\n",
    "    dic['uniform'] = var\n",
    "    \n",
    "    # optimal (diagonal)\n",
    "    if β_diag is not None:\n",
    "        var = pr.variance_local(energy, state, β_diag, multithread=False)\n",
    "        print(\"optimal diagonal: \", var)\n",
    "        dic['optimal_diag'] = var\n",
    " \n",
    "    # optimal (mixed)\n",
    "    if β_mix is not None:\n",
    "        var = pr.variance_local(energy, state, β_mix, multithread=False)\n",
    "        print(\"optimal mixed: \", var)\n",
    "        dic['optimal_mix'] = var\n",
    "    \n",
    "    return dic\n",
    "\n",
    "from matplotlib import pyplot as plt\n",
    "\n",
    "def variances_graph(variances):\n",
    "    num_variances = len(variances)\n",
    "    x = range(num_variances)\n",
    "    height = list(variances.values())\n",
    "\n",
    "    plt.bar(x, height)\n",
    "    plt.xticks(x, list(variances.keys()), rotation=20)\n",
    "    plt.title(title)\n",
    "\n",
    "    plt.show()"
   ]
  },
  {
   "cell_type": "code",
   "execution_count": 16,
   "metadata": {},
   "outputs": [],
   "source": [
    "variances_ALL = {}\n",
    "beta_optimal_ALL = {}"
   ]
  },
  {
   "cell_type": "code",
   "execution_count": 17,
   "metadata": {},
   "outputs": [],
   "source": [
    "import time"
   ]
  },
  {
   "cell_type": "code",
   "execution_count": 18,
   "metadata": {},
   "outputs": [],
   "source": [
    "def benchmarking(name, ham, title):\n",
    "    bitstring_HF = ham.read_bitstring_HF()\n",
    "    \n",
    "    t0 = time.time()\n",
    "    β_diag = ham.pauli_rep.local_dists_optimal('diagonal', 'lagrange')\n",
    "    t1 = time.time()\n",
    "    print(\"β_diag found. Time taken: {} seconds\".format(t1-t0))\n",
    "    β_mix = ham.pauli_rep.local_dists_optimal('mixed', 'lagrange', β_initial=β_diag, bitstring_HF=bitstring_HF)\n",
    "    t2 = time.time()\n",
    "    print(\"β_mix found.  Time taken: {} seconds\".format(t2-t1))\n",
    "    beta_optimal_ALL[name] = {'diagonal': β_diag, 'mixed': β_mix}\n",
    "    \n",
    "    variances_ALL[name] = variances_dict(ham, β_diag=β_diag, β_mix=β_mix)\n",
    "    t3 = time.time()\n",
    "    print(\"Variances calculated.  Time taken: {} seconds\".format(t3-t2))\n",
    "    \n",
    "    print(\"=====\")\n",
    "    print(title)\n",
    "    print(\"=====\")\n",
    "    print(variances_ALL[name])\n",
    "    print(\"=====\")\n",
    "    \n",
    "    variances_graph(variances_ALL[name])  "
   ]
  },
  {
   "cell_type": "code",
   "execution_count": 19,
   "metadata": {},
   "outputs": [
    {
     "name": "stdout",
     "output_type": "stream",
     "text": [
      "β_diag found. Time taken: 0.008372068405151367 seconds\n",
      "β_mix found.  Time taken: 0.014839887619018555 seconds\n",
      "energy : -1.8572750302023793\n",
      "ell 1:  2.4934667759321263\n",
      "ldf 1norm:  0.4018197080691368\n",
      "uniform:  1.9710775636478985\n",
      "optimal diagonal:  1.8555830498849517\n",
      "optimal mixed:  1.854656220004322\n",
      "Variances calculated.  Time taken: 0.02825307846069336 seconds\n",
      "=====\n",
      "Variances for various algorithms on H2 in JW encoding over 4 qubits\n",
      "=====\n",
      "{'ell_1': 2.4934667759321263, 'ldf_1norm': 0.4018197080691368, 'uniform': 1.9710775636478985, 'optimal_diag': 1.8555830498849517, 'optimal_mix': 1.854656220004322}\n",
      "=====\n"
     ]
    },
    {
     "data": {
      "image/png": "[encoded data removed]",
      "text/plain": [
       "<Figure size 432x288 with 1 Axes>"
      ]
     },
     "metadata": {
      "needs_background": "light"
     },
     "output_type": "display_data"
    }
   ],
   "source": [
    "name = 'h2_jw_4'\n",
    "ham = h2_jw_4\n",
    "title = \"Variances for various algorithms on H2 in JW encoding over 4 qubits\"\n",
    "\n",
    "benchmarking(name, ham, title)"
   ]
  },
  {
   "cell_type": "code",
   "execution_count": 20,
   "metadata": {},
   "outputs": [
    {
     "name": "stdout",
     "output_type": "stream",
     "text": [
      "β_diag found. Time taken: 0.14934706687927246 seconds\n",
      "β_mix found.  Time taken: 0.5450959205627441 seconds\n",
      "energy : -1.860860555520752\n",
      "ell 1:  119.67906001905914\n",
      "ldf 1norm:  22.25947792299109\n",
      "uniform:  51.399820213875856\n",
      "optimal diagonal:  17.741947811137184\n",
      "optimal mixed:  17.457187282027835\n",
      "Variances calculated.  Time taken: 2.3586580753326416 seconds\n",
      "=====\n",
      "Variances for various algorithms on H2 in JW encoding over 8 qubits\n",
      "=====\n",
      "{'ell_1': 119.67906001905914, 'ldf_1norm': 22.25947792299109, 'uniform': 51.399820213875856, 'optimal_diag': 17.741947811137184, 'optimal_mix': 17.457187282027835}\n",
      "=====\n"
     ]
    },
    {
     "data": {
      "image/png": "[encoded data removed]",
      "text/plain": [
       "<Figure size 432x288 with 1 Axes>"
      ]
     },
     "metadata": {
      "needs_background": "light"
     },
     "output_type": "display_data"
    }
   ],
   "source": [
    "name = 'h2_jw'\n",
    "ham = h2_jw\n",
    "title = \"Variances for various algorithms on H2 in JW encoding over 8 qubits\"\n",
    "\n",
    "benchmarking(name, ham, title)"
   ]
  },
  {
   "cell_type": "code",
   "execution_count": 21,
   "metadata": {},
   "outputs": [
    {
     "name": "stdout",
     "output_type": "stream",
     "text": [
      "β_diag found. Time taken: 1.107753038406372 seconds\n",
      "β_mix found.  Time taken: 5.579619884490967 seconds\n",
      "energy : -8.908299431473605\n",
      "ell 1:  138.38018090986668\n",
      "ldf 1norm:  54.150863863724\n",
      "uniform:  265.63532330209773\n",
      "optimal diagonal:  14.792751908499943\n",
      "optimal mixed:  14.877408442707038\n",
      "Variances calculated.  Time taken: 67.51313018798828 seconds\n",
      "=====\n",
      "Variances for various algorithms on LiH in JW encoding over 12 qubits\n",
      "=====\n",
      "{'ell_1': 138.38018090986668, 'ldf_1norm': 54.150863863724, 'uniform': 265.63532330209773, 'optimal_diag': 14.792751908499943, 'optimal_mix': 14.877408442707038}\n",
      "=====\n"
     ]
    },
    {
     "data": {
      "image/png": "[encoded data removed]",
      "text/plain": [
       "<Figure size 432x288 with 1 Axes>"
      ]
     },
     "metadata": {
      "needs_background": "light"
     },
     "output_type": "display_data"
    }
   ],
   "source": [
    "name = 'lih_jw'\n",
    "ham = lih_jw\n",
    "title = \"Variances for various algorithms on LiH in JW encoding over 12 qubits\"\n",
    "\n",
    "benchmarking(name, ham, title)"
   ]
  },
  {
   "cell_type": "code",
   "execution_count": 22,
   "metadata": {},
   "outputs": [
    {
     "name": "stdout",
     "output_type": "stream",
     "text": [
      "β_diag found. Time taken: 1.3914527893066406 seconds\n",
      "β_mix found.  Time taken: 4.8687779903411865 seconds\n",
      "energy : -19.045049602808\n",
      "ell 1:  418.26971722975554\n",
      "ldf 1norm:  135.42909719906132\n",
      "uniform:  1670.0146708893724\n",
      "optimal diagonal:  67.59976246292419\n",
      "optimal mixed:  67.48962561755737\n",
      "Variances calculated.  Time taken: 242.32594513893127 seconds\n",
      "=====\n",
      "Variances for various algorithms on BeH2 in JW encoding over 14 qubits\n",
      "=====\n",
      "{'ell_1': 418.26971722975554, 'ldf_1norm': 135.42909719906132, 'uniform': 1670.0146708893724, 'optimal_diag': 67.59976246292419, 'optimal_mix': 67.48962561755737}\n",
      "=====\n"
     ]
    },
    {
     "data": {
      "image/png": "[encoded data removed]",
      "text/plain": [
       "<Figure size 432x288 with 1 Axes>"
      ]
     },
     "metadata": {
      "needs_background": "light"
     },
     "output_type": "display_data"
    }
   ],
   "source": [
    "name = 'beh2_jw'\n",
    "ham = beh2_jw\n",
    "title = \"Variances for various algorithms on BeH2 in JW encoding over 14 qubits\"\n",
    "\n",
    "benchmarking(name, ham, title)"
   ]
  },
  {
   "cell_type": "code",
   "execution_count": 23,
   "metadata": {},
   "outputs": [
    {
     "name": "stdout",
     "output_type": "stream",
     "text": [
      "β_diag found. Time taken: 2.9676406383514404 seconds\n",
      "β_mix found.  Time taken: 10.162675142288208 seconds\n",
      "energy : -83.59943020533785\n",
      "ell 1:  4363.497773126075\n",
      "ldf 1norm:  1041.8235013468943\n",
      "uniform:  2839.039468218865\n",
      "optimal diagonal:  257.5439313166155\n",
      "optimal mixed:  254.1410650061148\n",
      "Variances calculated.  Time taken: 644.4332242012024 seconds\n",
      "=====\n",
      "Variances for various algorithms on H2O in JW encoding over 14 qubits\n",
      "=====\n",
      "{'ell_1': 4363.497773126075, 'ldf_1norm': 1041.8235013468943, 'uniform': 2839.039468218865, 'optimal_diag': 257.5439313166155, 'optimal_mix': 254.1410650061148}\n",
      "=====\n"
     ]
    },
    {
     "data": {
      "image/png": "[encoded data removed]",
      "text/plain": [
       "<Figure size 432x288 with 1 Axes>"
      ]
     },
     "metadata": {
      "needs_background": "light"
     },
     "output_type": "display_data"
    }
   ],
   "source": [
    "name = 'h2o_jw'\n",
    "ham = h2o_jw\n",
    "title = \"Variances for various algorithms on H2O in JW encoding over 14 qubits\"\n",
    "\n",
    "benchmarking(name, ham, title)"
   ]
  },
  {
   "cell_type": "code",
   "execution_count": 24,
   "metadata": {},
   "outputs": [],
   "source": [
    "# mac book pro is too weak for this!\n",
    "\n",
    "#name = 'nh3_jw'\n",
    "#ham = nh3_jw\n",
    "#title = \"Variances for various algorithms on NH3 in JW encoding over 16 qubits\"\n",
    "\n",
    "#benchmarking(name, ham, title)"
   ]
  },
  {
   "cell_type": "code",
   "execution_count": null,
   "metadata": {},
   "outputs": [],
   "source": []
  },
  {
   "cell_type": "code",
   "execution_count": null,
   "metadata": {},
   "outputs": [],
   "source": []
  },
  {
   "cell_type": "code",
   "execution_count": 25,
   "metadata": {},
   "outputs": [],
   "source": [
    "def save_variances_graph(variances, title, name):\n",
    "    num_variances = len(variances)\n",
    "    x = range(num_variances)\n",
    "    height = list(variances.values())\n",
    "\n",
    "    plt.bar(x, height)\n",
    "    plt.xticks(x, list(variances.keys()), rotation=20)\n",
    "    plt.title(title)\n",
    "\n",
    "    file = '../images/5algos_jw_encoding/{}'.format(name)\n",
    "    plt.savefig(file, dpi=300)\n",
    "    plt.show()"
   ]
  },
  {
   "cell_type": "code",
   "execution_count": 26,
   "metadata": {},
   "outputs": [],
   "source": [
    "graph_data = {\"h2_jw_4\": [variances_ALL[\"h2_jw_4\"], \n",
    "                          \"Variances for various algorithms on H2 in JW encoding over 4 qubits\",\n",
    "                          \"h2_jw_4q_1min\"],\n",
    "              \"h2_jw\": [variances_ALL[\"h2_jw\"], \n",
    "                        \"Variances for various algorithms on H2 in JW encoding over 8 qubits\",\n",
    "                        \"h2_jw_8q_1min\"],\n",
    "              \"lih_jw\": [variances_ALL[\"lih_jw\"], \n",
    "                         \"Variances for various algorithms on LiH in JW encoding over 12 qubits\",\n",
    "                         \"lih_jw_12q_5min\"],\n",
    "              \"h2o_jw\": [variances_ALL[\"h2o_jw\"], \n",
    "                         \"Variances for various algorithms on H2O in JW encoding over 14 qubits\",\n",
    "                         \"h2o_jw_14q_20min\"],\n",
    "              \"beh2_jw\": [variances_ALL[\"beh2_jw\"], \n",
    "                          \"Variances for various algorithms on BeH2 in JW encoding over 14 qubits\",\n",
    "                          \"beh2_jw_14q_14min\"]}"
   ]
  },
  {
   "cell_type": "code",
   "execution_count": 27,
   "metadata": {},
   "outputs": [],
   "source": [
    "#graph_data = {\"nh3_jw\": [variances_ALL[\"nh3_jw\"], \n",
    "#                          \"Variances for various algorithms on NH3 in JW encoding over 16 qubits\",\n",
    "#                          \"nh3_jw_16q_5hours\"]}"
   ]
  },
  {
   "cell_type": "code",
   "execution_count": 28,
   "metadata": {},
   "outputs": [],
   "source": [
    "#for data in graph_data.values():\n",
    "#    save_variances_graph(*data)"
   ]
  },
  {
   "cell_type": "code",
   "execution_count": null,
   "metadata": {},
   "outputs": [],
   "source": []
  },
  {
   "cell_type": "code",
   "execution_count": null,
   "metadata": {},
   "outputs": [],
   "source": []
  }
 ],
 "metadata": {
  "kernelspec": {
   "display_name": "Python 3",
   "language": "python",
   "name": "python3"
  },
  "language_info": {
   "codemirror_mode": {
    "name": "ipython",
    "version": 3
   },
   "file_extension": ".py",
   "mimetype": "text/x-python",
   "name": "python",
   "nbconvert_exporter": "python",
   "pygments_lexer": "ipython3",
   "version": "3.9.2"
  }
 },
 "nbformat": 4,
 "nbformat_minor": 4
}
