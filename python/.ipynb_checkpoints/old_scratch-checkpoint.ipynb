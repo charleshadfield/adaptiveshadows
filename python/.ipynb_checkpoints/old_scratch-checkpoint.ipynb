{
 "cells": [
  {
   "cell_type": "code",
   "execution_count": 1,
   "id": "champion-proportion",
   "metadata": {},
   "outputs": [],
   "source": [
    "from hamiltonian import Hamiltonian\n",
    "from basis_generator import *\n",
    "\n",
    "# 4 qubits\n",
    "h2_jw_4 = Hamiltonian('H2_STO3g_4qubits', 'jw')\n",
    "h2_parity_4 = Hamiltonian('H2_STO3g_4qubits', 'parity')\n",
    "h2_bk_4 = Hamiltonian('H2_STO3g_4qubits', 'bk')\n",
    "\n",
    "# 8 qubits\n",
    "h2_jw = Hamiltonian('H2_6-31G_8qubits', 'jw')\n",
    "h2_parity = Hamiltonian('H2_6-31G_8qubits', 'parity')\n",
    "h2_bk = Hamiltonian('H2_6-31G_8qubits', 'bk')\n",
    "\n",
    "# 12 qubits\n",
    "lih_jw = Hamiltonian('LiH_STO3g_12qubits', 'jw')\n",
    "lih_parity = Hamiltonian('LiH_STO3g_12qubits', 'parity')\n",
    "lih_bk = Hamiltonian('LiH_STO3g_12qubits', 'bk')"
   ]
  },
  {
   "cell_type": "code",
   "execution_count": 2,
   "id": "smart-discount",
   "metadata": {},
   "outputs": [],
   "source": [
    "# from qiskit.quantum_info import Pauli\n",
    "# from qiskit.aqua.operators import PauliOp, SummedOp"
   ]
  },
  {
   "cell_type": "code",
   "execution_count": 3,
   "id": "colonial-punch",
   "metadata": {},
   "outputs": [],
   "source": [
    "ham = h2_jw"
   ]
  },
  {
   "cell_type": "code",
   "execution_count": 4,
   "id": "continuous-audience",
   "metadata": {},
   "outputs": [],
   "source": [
    "H = ham.SummedOp()"
   ]
  },
  {
   "cell_type": "code",
   "execution_count": 5,
   "id": "lesser-romance",
   "metadata": {},
   "outputs": [],
   "source": [
    "beta = [(1/3, 1/3, 1/3) for _ in range(H.num_qubits)]"
   ]
  },
  {
   "cell_type": "code",
   "execution_count": 6,
   "id": "boring-confidentiality",
   "metadata": {},
   "outputs": [],
   "source": [
    "B = ['I' for _ in range(H.num_qubits)]\n",
    "# B = Pauli.from_label(''.join(B))"
   ]
  },
  {
   "cell_type": "code",
   "execution_count": 7,
   "id": "capital-alias",
   "metadata": {},
   "outputs": [
    {
     "data": {
      "text/plain": [
       "65.75968166573399"
      ]
     },
     "execution_count": 7,
     "metadata": {},
     "output_type": "execute_result"
    }
   ],
   "source": [
    "cost(H, beta, B, 0)"
   ]
  },
  {
   "cell_type": "code",
   "execution_count": 8,
   "id": "outer-newfoundland",
   "metadata": {},
   "outputs": [],
   "source": [
    "from optimization import optimizeBeta"
   ]
  },
  {
   "cell_type": "code",
   "execution_count": 9,
   "id": "satisfactory-debate",
   "metadata": {},
   "outputs": [],
   "source": [
    "import numpy as np"
   ]
  },
  {
   "cell_type": "code",
   "execution_count": 10,
   "id": "generic-container",
   "metadata": {},
   "outputs": [],
   "source": [
    "def update(beta, B, j):\n",
    "    \n",
    "    print(\"~~~~~\")\n",
    "    print(\"optimizing ...\")\n",
    "    result = optimizeBeta(H, beta, B, j)\n",
    "\n",
    "    (px, py, pz) = result.x[0:3]\n",
    "    beta[j] = (px, py, pz)\n",
    "\n",
    "    B_j = np.random.choice(['X', 'Y', 'Z'], 1, p = beta[j])\n",
    "    B[j] = str(B_j[0])\n",
    "    \n",
    "    print(\"~~~~~\")\n",
    "    print(\"Solved for index j={}\".format(j))\n",
    "    print(\"Current measurement basis is {}\".format(\"\".join(B)))\n",
    "    pass"
   ]
  },
  {
   "cell_type": "code",
   "execution_count": 15,
   "id": "confident-hurricane",
   "metadata": {},
   "outputs": [
    {
     "name": "stdout",
     "output_type": "stream",
     "text": [
      "~~~~~\n",
      "optimizing ...\n",
      "~~~~~\n",
      "Solved for index j=0\n",
      "Current measurement basis is XIIIIIII\n",
      "~~~~~\n",
      "optimizing ...\n",
      "~~~~~\n",
      "Solved for index j=1\n",
      "Current measurement basis is XZIIIIII\n",
      "~~~~~\n",
      "optimizing ...\n"
     ]
    },
    {
     "name": "stderr",
     "output_type": "stream",
     "text": [
      "/opt/anaconda3/envs/qiskit24/lib/python3.9/site-packages/scipy/optimize/_hessian_update_strategy.py:182: UserWarning: delta_grad == 0.0. Check if the approximated function is linear. If the function is linear better results can be obtained by defining the Hessian as zero instead of using quasi-Newton approximations.\n",
      "  warn('delta_grad == 0.0. Check if the approximated '\n"
     ]
    },
    {
     "name": "stdout",
     "output_type": "stream",
     "text": [
      "~~~~~\n",
      "Solved for index j=2\n",
      "Current measurement basis is XZXIIIII\n",
      "~~~~~\n",
      "optimizing ...\n",
      "~~~~~\n",
      "Solved for index j=3\n",
      "Current measurement basis is XZXZIIII\n",
      "~~~~~\n",
      "optimizing ...\n",
      "~~~~~\n",
      "Solved for index j=4\n",
      "Current measurement basis is XZXZYIII\n",
      "~~~~~\n",
      "optimizing ...\n",
      "~~~~~\n",
      "Solved for index j=5\n",
      "Current measurement basis is XZXZYXII\n",
      "~~~~~\n",
      "optimizing ...\n",
      "~~~~~\n",
      "Solved for index j=6\n",
      "Current measurement basis is XZXZYXZI\n",
      "~~~~~\n",
      "optimizing ...\n",
      "~~~~~\n",
      "Solved for index j=7\n",
      "Current measurement basis is XZXZYXZX\n"
     ]
    }
   ],
   "source": [
    "for j in range(H.num_qubits):\n",
    "    update(beta, B, j)"
   ]
  },
  {
   "cell_type": "code",
   "execution_count": 16,
   "id": "friendly-longer",
   "metadata": {},
   "outputs": [
    {
     "name": "stdout",
     "output_type": "stream",
     "text": [
      "SummedOp([\n",
      "  0.08794122934165582 * YZYIIIII,\n",
      "  0.08794122934165582 * XZXIIIII,\n",
      "  1.5253256224066558 * IIIIIIII,\n",
      "  -0.2724180193998683 * ZIIIIIII,\n",
      "  -0.6921496164450819 * IIZIIIII,\n",
      "  -0.4043851244705001 * IZIIIIII,\n",
      "  -0.05255329774132767 * IYZYIIII,\n",
      "  -0.05255329774132767 * IXZXIIII,\n",
      "  -1.0346287559322498 * IIIZIIII,\n",
      "  -0.2724180193998682 * IIIIZIII,\n",
      "  0.08794122934165581 * IIIIYZYI,\n",
      "  0.08794122934165581 * IIIIXZXI,\n",
      "  -0.4043851244705001 * IIIIIZII,\n",
      "  -0.05255329774132766 * IIIIIYZY,\n",
      "  -0.05255329774132766 * IIIIIXZX,\n",
      "  -0.6921496164450818 * IIIIIIZI,\n",
      "  -1.0346287559322498 * IIIIIIIZ,\n",
      "  0.023907160243420156 * IYIYIIII,\n",
      "  0.023907160243420156 * IXIXIIII,\n",
      "  -0.017318726572294618 * XIXIIIII,\n",
      "  -0.017318726572294618 * YIYIIIII,\n",
      "  -0.012608046401606652 * YZYIIZII,\n",
      "  -0.012608046401606652 * XZXIIZII,\n",
      "  -0.015412105039717084 * XXXXIIII,\n",
      "  -0.012794256152536574 * YXXYIIII,\n",
      "  -0.0026178488871805078 * XXYYIIII,\n",
      "  -0.0026178488871805078 * YYXXIIII,\n",
      "  -0.012794256152536574 * XYYXIIII,\n",
      "  -0.015412105039717084 * YYYYIIII,\n",
      "  -0.004710680170687968 * YYIIIXXI,\n",
      "  -0.004710680170687968 * YYIIIYYI,\n",
      "  -0.004710680170687968 * XXIIIXXI,\n",
      "  -0.004710680170687968 * XXIIIYYI,\n",
      "  0.13095738454560127 * ZIIZIIII,\n",
      "  -0.005591850052488086 * YZZYIXXI,\n",
      "  -0.005591850052488086 * YZZYIYYI,\n",
      "  -0.005591850052488086 * XZZXIXXI,\n",
      "  -0.005591850052488086 * XZZXIYYI,\n",
      "  0.015961155441576884 * ZYZYIIII,\n",
      "  0.015961155441576884 * ZXZXIIII,\n",
      "  0.03583078300215678 * ZIIIIXZX,\n",
      "  0.03583078300215678 * ZIIIIYZY,\n",
      "  -0.01838610620502466 * YZYIIXZX,\n",
      "  -0.01838610620502466 * YZYIIYZY,\n",
      "  -0.01838610620502466 * XZXIIXZX,\n",
      "  -0.01838610620502466 * XZXIIYZY,\n",
      "  0.08831604919069061 * ZZIIIIII,\n",
      "  -0.041611907907888844 * ZIIIYZYI,\n",
      "  -0.041611907907888844 * ZIIIXZXI,\n",
      "  0.027263069036128847 * YZYIYZYI,\n",
      "  0.027263069036128847 * YZYIXZXI,\n",
      "  0.027263069036128847 * XZXIYZYI,\n",
      "  0.027263069036128847 * XZXIXZXI,\n",
      "  0.1328282413043635 * ZIIIIIZI,\n",
      "  -0.02996880154502259 * YZYIIIZI,\n",
      "  -0.02996880154502259 * XZXIIIZI,\n",
      "  -0.021003955092205172 * YYIIIIXX,\n",
      "  -0.021003955092205172 * YYIIIIYY,\n",
      "  -0.021003955092205172 * XXIIIIXX,\n",
      "  -0.021003955092205172 * XXIIIIYY,\n",
      "  0.08647780044339264 * IZZIIIII,\n",
      "  0.030819246688616207 * YZZYIIXX,\n",
      "  0.030819246688616207 * YZZYIIYY,\n",
      "  0.030819246688616207 * XZZXIIXX,\n",
      "  0.030819246688616207 * XZZXIIYY,\n",
      "  -0.0198696275605799 * YYIIYZZY,\n",
      "  -0.0198696275605799 * YYIIXZZX,\n",
      "  -0.0198696275605799 * XXIIYZZY,\n",
      "  -0.0198696275605799 * XXIIXZZX,\n",
      "  0.0342610794129385 * YZZYYZZY,\n",
      "  0.0342610794129385 * YZZYXZZX,\n",
      "  0.0342610794129385 * XZZXYZZY,\n",
      "  0.0342610794129385 * XZZXXZZX,\n",
      "  0.16521846395853979 * ZIIIIIIZ,\n",
      "  -0.050238442633643486 * YZYIIIIZ,\n",
      "  -0.050238442633643486 * XZXIIIIZ,\n",
      "  -0.04161190790788884 * YZYIZIII,\n",
      "  -0.04161190790788884 * XZXIZIII,\n",
      "  -0.01941919594502728 * YZYZIIII,\n",
      "  -0.01941919594502728 * XZXZIIII,\n",
      "  0.02016748720380559 * YYIIXXII,\n",
      "  0.02016748720380559 * YYIIYYII,\n",
      "  0.02016748720380559 * XXIIXXII,\n",
      "  0.02016748720380559 * XXIIYYII,\n",
      "  -0.01838610620502466 * IYZYYZYI,\n",
      "  -0.01838610620502466 * IYZYXZXI,\n",
      "  -0.01838610620502466 * IXZXYZYI,\n",
      "  -0.01838610620502466 * IXZXXZXI,\n",
      "  -0.005591850052488085 * IYYIYZZY,\n",
      "  -0.005591850052488085 * IYYIXZZX,\n",
      "  -0.005591850052488085 * IXXIYZZY,\n",
      "  -0.005591850052488085 * IXXIXZZX,\n",
      "  0.013785633495284501 * IZIIIYZY,\n",
      "  0.013785633495284501 * IZIIIXZX,\n",
      "  0.016976725669297192 * IYZYIYZY,\n",
      "  0.016976725669297192 * IYZYIXZX,\n",
      "  0.016976725669297192 * IXZXIYZY,\n",
      "  0.016976725669297192 * IXZXIXZX,\n",
      "  0.008949858543082407 * IYYIIYYI,\n",
      "  0.008949858543082407 * IYYIIXXI,\n",
      "  0.008949858543082407 * IXXIIYYI,\n",
      "  0.008949858543082407 * IXXIIXXI,\n",
      "  -0.0007987348107616162 * IYYIIIYY,\n",
      "  -0.0007987348107616162 * IYYIIIXX,\n",
      "  -0.0007987348107616162 * IXXIIIYY,\n",
      "  -0.0007987348107616162 * IXXIIIXX,\n",
      "  0.10556517226823464 * ZIZIIIII,\n",
      "  0.09542765898647504 * IZIIIIZI,\n",
      "  0.11066162842599216 * IZIIIIIZ,\n",
      "  0.09368490275669497 * IZIZIIII,\n",
      "  -0.004710680170687968 * IYYIYYII,\n",
      "  -0.004710680170687968 * IYYIXXII,\n",
      "  -0.004710680170687968 * IXXIYYII,\n",
      "  -0.004710680170687968 * IXXIXXII,\n",
      "  0.1619798167438987 * ZIIIZIII,\n",
      "  0.09652650762551396 * IZIIIZII,\n",
      "  0.013785633495284501 * IYZYIZII,\n",
      "  0.013785633495284501 * IXZXIZII,\n",
      "  -0.012608046401606652 * IZIIYZYI,\n",
      "  -0.012608046401606652 * IZIIXZXI,\n",
      "  0.1084835363944962 * IZIIZIII,\n",
      "  0.03583078300215678 * IYZYZIII,\n",
      "  0.03583078300215678 * IXZXZIII,\n",
      "  0.02470589505418177 * IYZYIIZI,\n",
      "  0.02470589505418177 * IXZXIIZI,\n",
      "  -0.0198696275605799 * YZZYXXII,\n",
      "  -0.0198696275605799 * YZZYYYII,\n",
      "  -0.0198696275605799 * XZZXXXII,\n",
      "  -0.0198696275605799 * XZZXYYII,\n",
      "  0.1084835363944962 * ZIIIIZII,\n",
      "  0.041946477622790114 * IYZYIIIZ,\n",
      "  0.041946477622790114 * IXZXIIIZ,\n",
      "  0.10585039887546002 * IIZZIIII,\n",
      "  0.1328282413043635 * IIZIZIII,\n",
      "  -0.021003955092205172 * IIYYXXII,\n",
      "  -0.021003955092205172 * IIYYYYII,\n",
      "  -0.021003955092205172 * IIXXXXII,\n",
      "  -0.021003955092205172 * IIXXYYII,\n",
      "  -0.02996880154502259 * IIZIXZXI,\n",
      "  -0.02996880154502259 * IIZIYZYI,\n",
      "  0.030819246688616207 * IIYYXZZX,\n",
      "  0.030819246688616207 * IIYYYZZY,\n",
      "  0.030819246688616207 * IIXXXZZX,\n",
      "  0.030819246688616207 * IIXXYZZY,\n",
      "  0.09542765898647504 * IIZIIZII,\n",
      "  -0.0007987348107616162 * IIYYIXXI,\n",
      "  -0.0007987348107616162 * IIYYIYYI,\n",
      "  -0.0007987348107616162 * IIXXIXXI,\n",
      "  -0.0007987348107616162 * IIXXIYYI,\n",
      "  0.02470589505418177 * IIZIIXZX,\n",
      "  0.02470589505418177 * IIZIIYZY,\n",
      "  0.1159589087829886 * IIZIIIZI,\n",
      "  0.03211770000941987 * IIYYIIXX,\n",
      "  0.03211770000941987 * IIYYIIYY,\n",
      "  0.03211770000941987 * IIXXIIXX,\n",
      "  0.03211770000941987 * IIXXIIYY,\n",
      "  0.1379680988848799 * IIZIIIIZ,\n",
      "  0.16521846395853979 * IIIZZIII,\n",
      "  -0.050238442633643486 * IIIZXZXI,\n",
      "  -0.050238442633643486 * IIIZYZYI,\n",
      "  0.11066162842599216 * IIIZIZII,\n",
      "  0.04194647762279012 * IIIZIXZX,\n",
      "  0.04194647762279012 * IIIZIYZY,\n",
      "  0.1379680988848799 * IIIZIIZI,\n",
      "  0.18449350486670163 * IIIZIIIZ,\n",
      "  0.08831604919069061 * IIIIZZII,\n",
      "  0.015961155441576884 * IIIIZYZY,\n",
      "  0.015961155441576884 * IIIIZXZX,\n",
      "  0.10556517226823464 * IIIIZIZI,\n",
      "  0.13095738454560127 * IIIIZIIZ,\n",
      "  -0.017318726572294618 * IIIIYIYI,\n",
      "  -0.017318726572294618 * IIIIXIXI,\n",
      "  -0.01541210503971709 * IIIIYYYY,\n",
      "  -0.002617848887180506 * IIIIYYXX,\n",
      "  -0.012794256152536574 * IIIIYXXY,\n",
      "  -0.012794256152536574 * IIIIXYYX,\n",
      "  -0.002617848887180506 * IIIIXXYY,\n",
      "  -0.01541210503971709 * IIIIXXXX,\n",
      "  -0.01941919594502728 * IIIIYZYZ,\n",
      "  -0.01941919594502728 * IIIIXZXZ,\n",
      "  0.08647780044339264 * IIIIIZZI,\n",
      "  0.09368490275669497 * IIIIIZIZ,\n",
      "  0.023907160243420156 * IIIIIYIY,\n",
      "  0.023907160243420156 * IIIIIXIX,\n",
      "  0.10585039887546002 * IIIIIIZZ\n",
      "])\n"
     ]
    }
   ],
   "source": [
    "print(H)"
   ]
  },
  {
   "cell_type": "code",
   "execution_count": null,
   "id": "activated-public",
   "metadata": {},
   "outputs": [],
   "source": []
  }
 ],
 "metadata": {
  "kernelspec": {
   "display_name": "Python 3",
   "language": "python",
   "name": "python3"
  },
  "language_info": {
   "codemirror_mode": {
    "name": "ipython",
    "version": 3
   },
   "file_extension": ".py",
   "mimetype": "text/x-python",
   "name": "python",
   "nbconvert_exporter": "python",
   "pygments_lexer": "ipython3",
   "version": "3.9.2"
  }
 },
 "nbformat": 4,
 "nbformat_minor": 5
}
