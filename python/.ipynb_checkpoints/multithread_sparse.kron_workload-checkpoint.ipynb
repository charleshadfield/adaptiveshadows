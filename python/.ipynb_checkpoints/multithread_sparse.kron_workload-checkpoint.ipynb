{
 "cells": [
  {
   "cell_type": "code",
   "execution_count": 1,
   "metadata": {},
   "outputs": [],
   "source": [
    "from hamiltonian import HamiltonianSmall, Hamiltonian\n",
    "\n",
    "lih = HamiltonianSmall('LiH', 1.5)\n",
    "beh2 = HamiltonianSmall('BeH2', 1.3)\n",
    "\n",
    "h2_jw = Hamiltonian('H2_6-31G_8qubits', 'jw')\n",
    "water_jw = Hamiltonian('H2O_STO3g_14qubits', 'jw')\n",
    "ammonia_jw = Hamiltonian('NH3_STO3g_16qubits', 'jw')"
   ]
  },
  {
   "cell_type": "code",
   "execution_count": 2,
   "metadata": {},
   "outputs": [
    {
     "name": "stdout",
     "output_type": "stream",
     "text": [
      "CPU times: user 505 ms, sys: 25.7 ms, total: 530 ms\n",
      "Wall time: 418 ms\n",
      "CPU times: user 1.3 s, sys: 95.4 ms, total: 1.4 s\n",
      "Wall time: 584 ms\n",
      "CPU times: user 30.1 ms, sys: 53.7 ms, total: 83.8 ms\n",
      "Wall time: 498 ms\n",
      "energy:  -1.8608605555207562\n",
      "variance:     51.39982021387583\n",
      "variance_mt:  51.399820213875635\n"
     ]
    }
   ],
   "source": [
    "pr = h2_jw.pauli_rep\n",
    "β = pr.local_dists_uniform()\n",
    "%time energy, state = pr.ground()\n",
    "%time var = pr.variance_local(energy, state, β)\n",
    "%time var_mt = pr.variance_local(energy, state, β, multithread=True)\n",
    "print(\"energy: \", energy)\n",
    "print(\"variance:    \", var)\n",
    "print(\"variance_mt: \", var_mt)"
   ]
  },
  {
   "cell_type": "code",
   "execution_count": 3,
   "metadata": {},
   "outputs": [
    {
     "name": "stdout",
     "output_type": "stream",
     "text": [
      "CPU times: user 20.5 s, sys: 2.51 s, total: 23 s\n",
      "Wall time: 4.2 s\n",
      "CPU times: user 2min 52s, sys: 1.86 s, total: 2min 54s\n",
      "Wall time: 2min 53s\n",
      "CPU times: user 33.2 ms, sys: 53.8 ms, total: 87 ms\n",
      "Wall time: 47.3 s\n",
      "energy:  -83.59943020533811\n",
      "variance:     2839.039468218837\n",
      "variance_mt:  2839.0394682189526\n"
     ]
    }
   ],
   "source": [
    "pr = water_jw.pauli_rep\n",
    "β = pr.local_dists_uniform()\n",
    "%time energy, state = pr.ground(multithread=True)\n",
    "%time var = pr.variance_local(energy, state, β)\n",
    "%time var_mt = pr.variance_local(energy, state, β, multithread=True)\n",
    "print(\"energy: \", energy)\n",
    "print(\"variance:    \", var)\n",
    "print(\"variance_mt: \", var_mt)"
   ]
  },
  {
   "cell_type": "code",
   "execution_count": null,
   "metadata": {},
   "outputs": [],
   "source": []
  },
  {
   "cell_type": "code",
   "execution_count": 4,
   "metadata": {},
   "outputs": [
    {
     "name": "stdout",
     "output_type": "stream",
     "text": [
      "CPU times: user 106 ms, sys: 5.85 ms, total: 112 ms\n",
      "Wall time: 107 ms\n",
      "CPU times: user 257 ms, sys: 1.01 ms, total: 258 ms\n",
      "Wall time: 258 ms\n",
      "CPU times: user 388 ms, sys: 1.07 ms, total: 389 ms\n",
      "Wall time: 388 ms\n",
      "CPU times: user 7.14 s, sys: 602 ms, total: 7.74 s\n",
      "Wall time: 7.74 s\n"
     ]
    }
   ],
   "source": [
    "from sparse import matrix\n",
    "\n",
    "dic = lih.pauli_rep.dic\n",
    "%time mat = matrix(dic)\n",
    "dic = beh2.pauli_rep.dic\n",
    "%time mat = matrix(dic)\n",
    "dic = h2_jw.pauli_rep.dic\n",
    "%time mat = matrix(dic)\n",
    "dic = water_jw.pauli_rep.dic\n",
    "%time mat = matrix(dic)\n",
    "#dic = ammonia_jw.pauli_rep.dic\n",
    "#%time mat = matrix(dic)"
   ]
  },
  {
   "cell_type": "code",
   "execution_count": 5,
   "metadata": {},
   "outputs": [
    {
     "name": "stdout",
     "output_type": "stream",
     "text": [
      "CPU times: user 27.5 ms, sys: 53.6 ms, total: 81.1 ms\n",
      "Wall time: 409 ms\n",
      "CPU times: user 26.6 ms, sys: 45.9 ms, total: 72.5 ms\n",
      "Wall time: 432 ms\n",
      "CPU times: user 27.2 ms, sys: 47.8 ms, total: 75 ms\n",
      "Wall time: 482 ms\n",
      "CPU times: user 150 ms, sys: 149 ms, total: 298 ms\n",
      "Wall time: 1.59 s\n"
     ]
    }
   ],
   "source": [
    "from sparse import matrix_multithread\n",
    "\n",
    "dic = lih.pauli_rep.dic\n",
    "%time mat = matrix_multithread(dic)\n",
    "dic = beh2.pauli_rep.dic\n",
    "%time mat = matrix_multithread(dic)\n",
    "dic = h2_jw.pauli_rep.dic\n",
    "%time mat = matrix_multithread(dic)\n",
    "dic = water_jw.pauli_rep.dic\n",
    "%time mat = matrix_multithread(dic)\n",
    "#dic = ammonia_jw.pauli_rep.dic\n",
    "#%time mat = matrix_multithread(dic)"
   ]
  },
  {
   "cell_type": "code",
   "execution_count": null,
   "metadata": {},
   "outputs": [],
   "source": []
  }
 ],
 "metadata": {
  "kernelspec": {
   "display_name": "Python 3",
   "language": "python",
   "name": "python3"
  },
  "language_info": {
   "codemirror_mode": {
    "name": "ipython",
    "version": 3
   },
   "file_extension": ".py",
   "mimetype": "text/x-python",
   "name": "python",
   "nbconvert_exporter": "python",
   "pygments_lexer": "ipython3",
   "version": "3.9.4"
  }
 },
 "nbformat": 4,
 "nbformat_minor": 4
}
